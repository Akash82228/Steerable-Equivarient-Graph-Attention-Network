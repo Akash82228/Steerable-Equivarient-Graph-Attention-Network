{
 "cells": [
  {
   "attachments": {},
   "cell_type": "markdown",
   "metadata": {},
   "source": [
    "# QM9 "
   ]
  },
  {
   "attachments": {},
   "cell_type": "markdown",
   "metadata": {},
   "source": [
    "Installation of necessary dependencies"
   ]
  },
  {
   "cell_type": "code",
   "execution_count": 9,
   "metadata": {},
   "outputs": [
    {
     "name": "stdout",
     "output_type": "stream",
     "text": [
      "Using cuda:0\n"
     ]
    }
   ],
   "source": [
    "import torch\n",
    "device = 'cuda:0' if torch.cuda.is_available() else 'cpu'\n",
    "print(f\"Using {device}\")"
   ]
  },
  {
   "cell_type": "code",
   "execution_count": 10,
   "metadata": {},
   "outputs": [],
   "source": [
    "# # Install torch geometric\n",
    "# %pip install torch-scatter -f https://pytorch-geometric.com/whl/torch-1.10.0+cu111.html\n",
    "# %pip install torch-sparse -f https://pytorch-geometric.com/whl/torch-1.10.0+cu111.html\n",
    "# %pip install torch-geometric\n",
    "# %pip install -q git+https://github.com/snap-stanford/deepsnap.git\n",
    "# %pip install wget"
   ]
  },
  {
   "attachments": {},
   "cell_type": "markdown",
   "metadata": {},
   "source": [
    "Download QM9 dataset\n",
    "\n",
    "make dataloader"
   ]
  },
  {
   "cell_type": "code",
   "execution_count": 11,
   "metadata": {},
   "outputs": [],
   "source": [
    "from typing import Optional, Callable, List\n",
    "\n",
    "import sys\n",
    "import os\n",
    "import os.path as osp\n",
    "from tqdm import tqdm\n",
    "import numpy as np\n",
    "\n",
    "import torch\n",
    "import torch.nn.functional as F\n",
    "from torch_scatter import scatter\n",
    "from torch_geometric.data import (InMemoryDataset, download_url, extract_zip,\n",
    "                                  Data)\n",
    "from torch_geometric.nn import radius_graph\n",
    "from e3nn.o3 import Irreps, spherical_harmonics"
   ]
  },
  {
   "cell_type": "code",
   "execution_count": 12,
   "metadata": {},
   "outputs": [],
   "source": [
    "HAR2EV = 27.211386246\n",
    "KCALMOL2EV = 0.04336414\n",
    "\n",
    "conversion = torch.tensor([\n",
    "    1., 1., HAR2EV, HAR2EV, HAR2EV, 1., HAR2EV, HAR2EV, HAR2EV, HAR2EV, HAR2EV,\n",
    "    1., KCALMOL2EV, KCALMOL2EV, KCALMOL2EV, KCALMOL2EV, 1., 1., 1.\n",
    "])\n",
    "\n",
    "atomrefs = {\n",
    "    6: [0., 0., 0., 0., 0.],\n",
    "    7: [\n",
    "        -13.61312172, -1029.86312267, -1485.30251237, -2042.61123593,\n",
    "        -2713.48485589\n",
    "    ],\n",
    "    8: [\n",
    "        -13.5745904, -1029.82456413, -1485.26398105, -2042.5727046,\n",
    "        -2713.44632457\n",
    "    ],\n",
    "    9: [\n",
    "        -13.54887564, -1029.79887659, -1485.2382935, -2042.54701705,\n",
    "        -2713.42063702\n",
    "    ],\n",
    "    10: [\n",
    "        -13.90303183, -1030.25891228, -1485.71166277, -2043.01812778,\n",
    "        -2713.88796536\n",
    "    ],\n",
    "    11: [0., 0., 0., 0., 0.],\n",
    "}\n",
    "\n",
    "\n",
    "targets = ['mu', 'alpha', 'homo', 'lumo', 'gap', 'r2', 'zpve', 'U0',\n",
    "           'U', 'H', 'G', 'Cv', 'U0_atom', 'U_atom', 'H_atom', 'G_atom', 'A', 'B', 'C']\n",
    "\n",
    "tid = targets.index(\"alpha\")\n"
   ]
  },
  {
   "attachments": {},
   "cell_type": "markdown",
   "metadata": {},
   "source": [
    "### Model run parameters"
   ]
  },
  {
   "cell_type": "code",
   "execution_count": 13,
   "metadata": {},
   "outputs": [],
   "source": [
    "epochs = 200\n",
    "batch_size=128\n",
    "lr = 5e-4 #learning rate\n",
    "weight_decay=1e-8\n",
    "num_workers =4 #num workers in dataloader\n",
    "save_dir = \"saved models\" #directory to save models\n",
    "\n",
    "#set the task variable\n",
    "task=\"graph\"\n",
    "\n",
    "#set the logging flag\n",
    "log = True"
   ]
  },
  {
   "attachments": {},
   "cell_type": "markdown",
   "metadata": {},
   "source": [
    "### Dataset parameters"
   ]
  },
  {
   "cell_type": "code",
   "execution_count": 14,
   "metadata": {},
   "outputs": [],
   "source": [
    "dataset = \"qm9\"\n",
    "root = \"datasets\" #dataset location\n",
    "target = \"alpha\" \n",
    "radius = 2 #Radius (Angstrom) between which atoms to add links.\n",
    "feature_type = \"one_hot\""
   ]
  },
  {
   "attachments": {},
   "cell_type": "markdown",
   "metadata": {},
   "source": [
    "### Model parameters"
   ]
  },
  {
   "cell_type": "code",
   "execution_count": 15,
   "metadata": {},
   "outputs": [],
   "source": [
    "model =\"segnn\"\n",
    "hidden_features= 128 #number of hidden features\n",
    "lmax_h =2 #max degree of hidden rep\n",
    "lmax_attr=3 #max degree of geometric attribute embedding\n",
    "subspace_type = \"weightbalanced\" #how to divide spherical harmonic subspace\n",
    "layers = 1 #number of message passing layers\n",
    "norm = \"instance\" #normalisation type\n",
    "pool = \"avg\"\n",
    "conv_type = \"linear\" #linear or non-linear aggregation of local information in SEConv"
   ]
  },
  {
   "cell_type": "code",
   "execution_count": 16,
   "metadata": {},
   "outputs": [],
   "source": [
    "class TargetGetter(object):\n",
    "    \"\"\" Gets relevant target \"\"\"\n",
    "\n",
    "    def __init__(self, target):\n",
    "        self.target = target\n",
    "        self.target_idx = targets.index(target)\n",
    "\n",
    "    def __call__(self, data):\n",
    "        # Specify target.\n",
    "        data.y = data.y[0, self.target_idx]\n",
    "        return data"
   ]
  },
  {
   "cell_type": "code",
   "execution_count": 17,
   "metadata": {},
   "outputs": [],
   "source": [
    "class QM9(InMemoryDataset):\n",
    "    \n",
    "    r\"\"\"The QM9 dataset from the `\"MoleculeNet: A Benchmark for Molecular\n",
    "    Machine Learning\" <https://arxiv.org/abs/1703.00564>`_ paper, consisting of\n",
    "    about 130,000 molecules with 19 regression targets.\n",
    "    Each molecule includes complete spatial information for the single low\n",
    "    energy conformation of the atoms in the molecule.\n",
    "    In addition, we provide the atom features from the `\"Neural Message\n",
    "    Passing for Quantum Chemistry\" <https://arxiv.org/abs/1704.01212>`_ paper. \"\"\"\n",
    "\n",
    "    raw_url = ('https://deepchemdata.s3-us-west-1.amazonaws.com/datasets/'\n",
    "               'molnet_publish/qm9.zip')\n",
    "    raw_url2 = 'https://ndownloader.figshare.com/files/3195404'\n",
    "    processed_url = 'https://data.pyg.org/datasets/qm9_v3.zip'\n",
    "\n",
    "    def __init__(self, root, target, radius, partition, lmax_attr, feature_type):\n",
    "        # assert feature_type in [\"one_hot\", \"cormorant\", \"gilmer\"], \"Please use valid features\"\n",
    "        # assert target in targets\n",
    "        # assert partition in [\"train\", \"valid\", \"test\"]\n",
    "        self.root = osp.abspath(osp.join(root, \"qm9\"))\n",
    "        self.target = target\n",
    "        self.radius = radius\n",
    "        self.partition = partition\n",
    "        self.feature_type = feature_type\n",
    "        self.lmax_attr = lmax_attr\n",
    "        self.attr_irreps = Irreps.spherical_harmonics(lmax_attr)\n",
    "        transform = TargetGetter(self.target)\n",
    "\n",
    "        super().__init__(self.root, transform)\n",
    "\n",
    "        self.data, self.slices = torch.load(self.processed_paths[0])\n",
    "\n",
    "    def calc_stats(self):\n",
    "        ys = np.array([data.y.item() for data in self])\n",
    "        mean = np.mean(ys)\n",
    "        mad = np.mean(np.abs(ys - mean))\n",
    "        return mean, mad\n",
    "\n",
    "    def atomref(self, target) -> Optional[torch.Tensor]:\n",
    "        if target in atomrefs:\n",
    "            out = torch.zeros(100)\n",
    "            out[torch.tensor([1, 6, 7, 8, 9])] = torch.tensor(atomrefs[target])\n",
    "            return out.view(-1, 1)\n",
    "        return None\n",
    "    \n",
    "    @ property\n",
    "    def raw_file_names(self) -> List[str]:\n",
    "        try:\n",
    "            import rdkit  # noqa\n",
    "            return ['gdb9.sdf', 'gdb9.sdf.csv', 'uncharacterized.txt']\n",
    "        except ImportError:\n",
    "            print(\"Please install rdkit\")\n",
    "            return\n",
    "        \n",
    "    @ property\n",
    "    def processed_file_names(self) -> str:\n",
    "        return [\"_\".join([self.partition, \"r=\"+str(np.round(self.radius, 2)),\n",
    "                          self.feature_type, \"l=\"+str(self.lmax_attr)]) + '.pt']\n",
    "    \n",
    "    def download(self):\n",
    "        print(\"Downloading to\", self.raw_dir, self.raw_url)\n",
    "        try:\n",
    "            import rdkit  # noqa\n",
    "            file_path = download_url(self.raw_url, self.raw_dir)\n",
    "            extract_zip(file_path, self.raw_dir)\n",
    "            os.unlink(file_path)\n",
    "\n",
    "            file_path = download_url(self.raw_url2, self.raw_dir)\n",
    "            os.rename(osp.join(self.raw_dir, '3195404'),\n",
    "                      osp.join(self.raw_dir, 'uncharacterized.txt'))\n",
    "        except ImportError:\n",
    "            path = download_url(self.processed_url, self.raw_dir)\n",
    "            extract_zip(path, self.raw_dir)\n",
    "            os.unlink(path)\n",
    "\n",
    "    '''This code defines the process() method of a PyTorch dataset class. \n",
    "    The purpose of this method is to process the raw data of the dataset into a format \n",
    "    that can be used for training a machine learning model.'''\n",
    "\n",
    "    def process(self):\n",
    "        try:\n",
    "            import rdkit\n",
    "            from rdkit import Chem\n",
    "            from rdkit.Chem.rdchem import HybridizationType\n",
    "            from rdkit.Chem.rdchem import BondType as BT\n",
    "            from rdkit import RDLogger\n",
    "            RDLogger.DisableLog('rdApp.*')\n",
    "        except ImportError:\n",
    "            print(\"Please install rdkit\")\n",
    "            return\n",
    "\n",
    "        print(\"Processing data for\", self.partition, \"set with radius=\" + str(np.round(self.radius, 2)) +\n",
    "              \",\", \"l_attr=\" + str(self.lmax_attr), \"and\", self.feature_type, \"features.\")\n",
    "        types = {'H': 0, 'C': 1, 'N': 2, 'O': 3, 'F': 4}\n",
    "\n",
    "        with open(self.raw_paths[1], 'r') as f:\n",
    "            target = f.read().split('\\n')[1:-1]\n",
    "            target = [[float(x) for x in line.split(',')[1:20]]\n",
    "                      for line in target]\n",
    "            target = torch.tensor(target, dtype=torch.float)\n",
    "            target = torch.cat([target[:, 3:], target[:, :3]], dim=-1)\n",
    "            target = target * conversion.view(1, -1)\n",
    "\n",
    "        with open(self.raw_paths[2], 'r') as f:\n",
    "            skip = [int(x.split()[0]) - 1 for x in f.read().split('\\n')[9:-2]]\n",
    "\n",
    "        suppl = Chem.SDMolSupplier(self.raw_paths[0], removeHs=False,\n",
    "                                   sanitize=False)\n",
    "        data_list = []\n",
    "\n",
    "        # Create splits \n",
    "        Nmols = len(suppl) - len(skip)\n",
    "        Ntrain = 100000\n",
    "        Ntest = int(0.1*Nmols)\n",
    "        Nvalid = Nmols - (Ntrain + Ntest)\n",
    "\n",
    "        # sets the random seed to a specific value (0), \n",
    "        # so that the same random permutation is generated every time the code is run.\n",
    "        np.random.seed(0) \n",
    "        data_perm = np.random.permutation(Nmols)\n",
    "        train, valid, test = np.split(data_perm, [Ntrain, Ntrain+Nvalid])\n",
    "        indices = {\"train\": train, \"valid\": valid, \"test\": test}\n",
    "\n",
    "        # Add a very ugly second index to align with Cormorant splits.\n",
    "        j = 0\n",
    "        for i, mol in enumerate(tqdm(suppl)):\n",
    "            if i in skip:\n",
    "                continue\n",
    "            if j not in indices[self.partition]:\n",
    "                j += 1\n",
    "                continue\n",
    "            j += 1\n",
    "\n",
    "            N = mol.GetNumAtoms()\n",
    "\n",
    "            pos = suppl.GetItemText(i).split('\\n')[4:4 + N]\n",
    "            pos = [[float(x) for x in line.split()[:3]] for line in pos]\n",
    "            pos = torch.tensor(pos, dtype=torch.float)\n",
    "\n",
    "            edge_index = radius_graph(pos, r=self.radius, loop=False)\n",
    "\n",
    "            type_idx = []\n",
    "            atomic_number = []\n",
    "            aromatic = []\n",
    "            sp = []\n",
    "            sp2 = []\n",
    "            sp3 = []\n",
    "            num_hs = []\n",
    "            for atom in mol.GetAtoms():\n",
    "                type_idx.append(types[atom.GetSymbol()])\n",
    "                atomic_number.append(atom.GetAtomicNum())\n",
    "                aromatic.append(1 if atom.GetIsAromatic() else 0)\n",
    "                hybridization = atom.GetHybridization()\n",
    "                sp.append(1 if hybridization == HybridizationType.SP else 0)\n",
    "                sp2.append(1 if hybridization == HybridizationType.SP2 else 0)\n",
    "                sp3.append(1 if hybridization == HybridizationType.SP3 else 0)\n",
    "\n",
    "            z = torch.tensor(atomic_number, dtype=torch.long)\n",
    "\n",
    "            x = F.one_hot(torch.tensor(type_idx), num_classes=len(types)).float()\n",
    "\n",
    "            y = target[i].unsqueeze(0)\n",
    "            name = mol.GetProp('_Name')\n",
    "\n",
    "            edge_attr, node_attr, edge_dist = self.get_O3_attr(edge_index, pos, self.attr_irreps)\n",
    "\n",
    "            data = Data(x=x, pos=pos, edge_index=edge_index, edge_attr=edge_attr,\n",
    "                        node_attr=node_attr, additional_message_features=edge_dist, y=y, name=name, index=i)\n",
    "            data_list.append(data)\n",
    "\n",
    "        torch.save(self.collate(data_list), self.processed_paths[0])\n",
    "\n",
    "    def get_O3_attr(self, edge_index, pos, attr_irreps):\n",
    "        \"\"\" Creates spherical harmonic edge attributes and node attributes for the SEGNN \"\"\"\n",
    "        rel_pos = pos[edge_index[0]] - pos[edge_index[1]]  # pos_j - pos_i (note in edge_index stores tuples like (j,i))\n",
    "        edge_dist = rel_pos.pow(2).sum(-1, keepdims=True)\n",
    "        edge_attr = spherical_harmonics(attr_irreps, rel_pos, normalize=True,\n",
    "                                        normalization='component')  # Unnormalised for now\n",
    "        node_attr = scatter(edge_attr, edge_index[1], dim=0, reduce=\"mean\")\n",
    "        return edge_attr, node_attr, edge_dist\n",
    "    \n"
   ]
  },
  {
   "cell_type": "code",
   "execution_count": 18,
   "metadata": {},
   "outputs": [
    {
     "name": "stdout",
     "output_type": "stream",
     "text": [
      "length 130831\n",
      "tensor([[1, 2, 3, 4, 0, 2, 3, 4, 0, 1, 3, 4, 0, 1, 2, 4, 0, 1, 2, 3],\n",
      "        [0, 0, 0, 0, 1, 1, 1, 1, 2, 2, 2, 2, 3, 3, 3, 3, 4, 4, 4, 4]])\n",
      "mean 75.28118503790856 mad 6.291763891186152\n"
     ]
    },
    {
     "data": {
      "image/png": "[encoded data removed]",
      "text/plain": [
       "<Figure size 432x288 with 2 Axes>"
      ]
     },
     "metadata": {
      "needs_background": "light"
     },
     "output_type": "display_data"
    }
   ],
   "source": [
    "if __name__ == \"__main__\":\n",
    "    dataset = QM9(\"datasets\", \"alpha\", 2.0, \"train\", 6, feature_type=\"one_hot\")\n",
    "    print(\"length\", len(dataset))\n",
    "    ys = np.array([data.y.item() for data in dataset])\n",
    "    mean, mad = dataset.calc_stats()\n",
    "\n",
    "    for item in dataset:\n",
    "        print(item.edge_index)\n",
    "        break\n",
    "\n",
    "    print(\"mean\", mean, \"mad\", mad)\n",
    "    import matplotlib.pyplot as plt\n",
    "\n",
    "    plt.subplot(121)\n",
    "    plt.title(dataset.target)\n",
    "    plt.hist(ys)\n",
    "    plt.subplot(122)\n",
    "    plt.title(dataset.target + \" standardised\")\n",
    "    plt.hist((ys - mean)/mad)\n",
    "    plt.show()"
   ]
  },
  {
   "cell_type": "code",
   "execution_count": 19,
   "metadata": {},
   "outputs": [
    {
     "name": "stdout",
     "output_type": "stream",
     "text": [
      "QM9(130831)\n"
     ]
    }
   ],
   "source": [
    "dataset\n",
    "print(dataset)"
   ]
  },
  {
   "cell_type": "code",
   "execution_count": 20,
   "metadata": {},
   "outputs": [
    {
     "data": {
      "text/plain": [
       "Data(x=[2359210, 5], edge_index=[2, 6206878], edge_attr=[6206878, 49], y=[130831, 19], pos=[2359210, 3], node_attr=[2359210, 49], additional_message_features=[6206878, 1], name=[130831], index=[130831])"
      ]
     },
     "execution_count": 20,
     "metadata": {},
     "output_type": "execute_result"
    }
   ],
   "source": [
    "dataset.data"
   ]
  },
  {
   "cell_type": "code",
   "execution_count": 21,
   "metadata": {},
   "outputs": [
    {
     "name": "stdout",
     "output_type": "stream",
     "text": [
      "\n",
      "Data(x=[5, 5], edge_index=[2, 20], edge_attr=[20, 49], y=13.210000038146973, pos=[5, 3], node_attr=[5, 49], additional_message_features=[20, 1], name='gdb_1', index=[1])\n",
      "===============================================================================================================\n",
      "Number of nodes: 5\n",
      "Number of edges: 20\n",
      "Average node degree: 4.00\n",
      "Has isolated nodes: False\n",
      "Has self-loops: False\n",
      "Is undirected: False\n"
     ]
    }
   ],
   "source": [
    "data = dataset[0]  # Get the first graph object.\n",
    "\n",
    "print()\n",
    "print(data)\n",
    "print('===============================================================================================================')\n",
    "# Gather some statistics about the graph.\n",
    "print(f'Number of nodes: {data.num_nodes}')\n",
    "print(f'Number of edges: {data.num_edges}')\n",
    "print(f'Average node degree: {data.num_edges / data.num_nodes:.2f}')\n",
    "# print(f'Number of training nodes: {data.train_mask.sum()}')\n",
    "# print(f'Training node label rate: {int(data.train_mask.sum()) / data.num_nodes:.3f}')\n",
    "print(f'Has isolated nodes: {data.has_isolated_nodes()}')\n",
    "print(f'Has self-loops: {data.has_self_loops()}')\n",
    "print(f'Is undirected: {data.is_undirected()}')"
   ]
  },
  {
   "attachments": {},
   "cell_type": "markdown",
   "metadata": {},
   "source": [
    "### Load training data"
   ]
  },
  {
   "cell_type": "code",
   "execution_count": 22,
   "metadata": {},
   "outputs": [],
   "source": [
    "import math\n",
    "import torch.distributed as dist\n",
    "from torch.utils.data import Sampler\n",
    "import os\n",
    "import torch\n",
    "from torch_geometric.loader import DataLoader\n",
    "from torch.utils.data.distributed import DistributedSampler"
   ]
  },
  {
   "cell_type": "code",
   "execution_count": 23,
   "metadata": {},
   "outputs": [],
   "source": [
    "def make_dataloader(dataset, batch_size, num_workers, world_size = None, rank=None, train=True):\n",
    "    \"\"\" Create (disributed) dataloader \"\"\"\n",
    "\n",
    "    if world_size is not None and world_size > 1:\n",
    "        if train:\n",
    "            sampler = DistributedSampler(dataset, num_replicas=world_size, rank=rank)\n",
    "        else:\n",
    "            sampler = DistributedEvalSampler(dataset, num_replicas=world_size, rank=rank)\n",
    "\n",
    "        parallel_batch_size = int(batch_size/world_size)\n",
    "        dataloader = DataLoader(dataset, batch_size=parallel_batch_size, shuffle=(sampler is None),\n",
    "                                sampler=sampler, num_workers=num_workers)\n",
    "    else:\n",
    "        dataloader = DataLoader(dataset, batch_size=batch_size, shuffle=train, num_workers=num_workers)\n",
    "\n",
    "    return dataloader"
   ]
  },
  {
   "cell_type": "code",
   "execution_count": 24,
   "metadata": {},
   "outputs": [
    {
     "name": "stdout",
     "output_type": "stream",
     "text": [
      "length 130831\n",
      "tensor([[1, 2, 3, 4, 0, 2, 3, 4, 0, 1, 3, 4, 0, 1, 2, 4, 0, 1, 2, 3],\n",
      "        [0, 0, 0, 0, 1, 1, 1, 1, 2, 2, 2, 2, 3, 3, 3, 3, 4, 4, 4, 4]])\n",
      "mean 75.28118503790856 mad 6.291763891186152\n"
     ]
    },
    {
     "data": {
      "image/png": "[encoded data removed]",
      "text/plain": [
       "<Figure size 432x288 with 2 Axes>"
      ]
     },
     "metadata": {
      "needs_background": "light"
     },
     "output_type": "display_data"
    }
   ],
   "source": [
    "train_dataset = QM9(root, target, radius, \"train\", lmax_attr, feature_type)\n",
    "print(\"length\", len(train_dataset))\n",
    "ys = np.array([data.y.item() for data in train_dataset])\n",
    "mean, mad = train_dataset.calc_stats()\n",
    "\n",
    "for item in train_dataset:\n",
    "    print(item.edge_index)\n",
    "    break\n",
    "\n",
    "print(\"mean\", mean, \"mad\", mad)\n",
    "import matplotlib.pyplot as plt\n",
    "\n",
    "plt.subplot(121)\n",
    "plt.title(train_dataset.target)\n",
    "plt.hist(ys)\n",
    "plt.subplot(122)\n",
    "plt.title(train_dataset.target + \" standardised\")\n",
    "plt.hist((ys - mean)/mad)\n",
    "plt.show()"
   ]
  },
  {
   "cell_type": "code",
   "execution_count": 25,
   "metadata": {},
   "outputs": [],
   "source": [
    "train_loader = make_dataloader(train_dataset, batch_size, num_workers)"
   ]
  },
  {
   "cell_type": "code",
   "execution_count": 26,
   "metadata": {},
   "outputs": [
    {
     "name": "stdout",
     "output_type": "stream",
     "text": [
      "length 17748\n",
      "tensor([[1, 2, 0, 2, 0, 1],\n",
      "        [0, 0, 1, 1, 2, 2]])\n",
      "mean 75.37343134473298 mad 6.272772235374586\n"
     ]
    },
    {
     "data": {
      "image/png": "[encoded data removed]",
      "text/plain": [
       "<Figure size 432x288 with 2 Axes>"
      ]
     },
     "metadata": {
      "needs_background": "light"
     },
     "output_type": "display_data"
    }
   ],
   "source": [
    "valid_dataset = QM9(root, target, radius, \"valid\", lmax_attr, feature_type)\n",
    "print(\"length\", len(valid_dataset))\n",
    "ys = np.array([data.y.item() for data in valid_dataset])\n",
    "mean, mad = valid_dataset.calc_stats()\n",
    "\n",
    "for item in valid_dataset:\n",
    "    print(item.edge_index)\n",
    "    break\n",
    "\n",
    "print(\"mean\", mean, \"mad\", mad)\n",
    "import matplotlib.pyplot as plt\n",
    "\n",
    "plt.subplot(121)\n",
    "plt.title(valid_dataset.target)\n",
    "plt.hist(ys)\n",
    "plt.subplot(122)\n",
    "plt.title(valid_dataset.target + \" standardised\")\n",
    "plt.hist((ys - mean)/mad)\n",
    "plt.show()"
   ]
  },
  {
   "cell_type": "code",
   "execution_count": 27,
   "metadata": {},
   "outputs": [],
   "source": [
    "valid_loader = make_dataloader(valid_dataset, batch_size, num_workers, train=False )"
   ]
  },
  {
   "cell_type": "code",
   "execution_count": 28,
   "metadata": {},
   "outputs": [
    {
     "name": "stdout",
     "output_type": "stream",
     "text": [
      "length 13083\n",
      "tensor([[1, 3, 4, 5, 0, 2, 6, 1, 0, 4, 5, 0, 3, 5, 0, 3, 4, 1],\n",
      "        [0, 0, 0, 0, 1, 1, 1, 2, 3, 3, 3, 4, 4, 4, 5, 5, 5, 6]])\n",
      "mean 75.27169685054699 mad 6.34405899560443\n"
     ]
    },
    {
     "data": {
      "image/png": "[encoded data removed]",
      "text/plain": [
       "<Figure size 432x288 with 2 Axes>"
      ]
     },
     "metadata": {
      "needs_background": "light"
     },
     "output_type": "display_data"
    }
   ],
   "source": [
    "test_dataset = QM9(root, target, radius, \"test\", lmax_attr, feature_type)\n",
    "print(\"length\", len(test_dataset))\n",
    "ys = np.array([data.y.item() for data in test_dataset])\n",
    "mean, mad = test_dataset.calc_stats()\n",
    "\n",
    "for item in test_dataset:\n",
    "    print(item.edge_index)\n",
    "    break\n",
    "\n",
    "print(\"mean\", mean, \"mad\", mad)\n",
    "import matplotlib.pyplot as plt\n",
    "\n",
    "plt.subplot(121)\n",
    "plt.title(test_dataset.target)\n",
    "plt.hist(ys)\n",
    "plt.subplot(122)\n",
    "plt.title(test_dataset.target + \" standardised\")\n",
    "plt.hist((ys - mean)/mad)\n",
    "plt.show()"
   ]
  },
  {
   "cell_type": "code",
   "execution_count": 29,
   "metadata": {},
   "outputs": [],
   "source": [
    "test_loader = make_dataloader(test_dataset, batch_size, num_workers, train=False )"
   ]
  },
  {
   "cell_type": "code",
   "execution_count": 30,
   "metadata": {},
   "outputs": [],
   "source": [
    "# Get train set statistics\n",
    "target_mean, target_mad = train_loader.dataset.calc_stats()"
   ]
  },
  {
   "attachments": {},
   "cell_type": "markdown",
   "metadata": {},
   "source": [
    "### Set the group representations"
   ]
  },
  {
   "cell_type": "code",
   "execution_count": 31,
   "metadata": {},
   "outputs": [],
   "source": [
    "from e3nn.o3 import Irreps, spherical_harmonics\n",
    "\n",
    "input_irreps = Irreps(\"5x0e\")"
   ]
  },
  {
   "cell_type": "code",
   "execution_count": 32,
   "metadata": {},
   "outputs": [],
   "source": [
    "output_irreps = Irreps(\"1x0e\")"
   ]
  },
  {
   "cell_type": "code",
   "execution_count": 33,
   "metadata": {},
   "outputs": [],
   "source": [
    "edge_attr_irreps = Irreps.spherical_harmonics(3)\n",
    "node_attr_irreps = Irreps.spherical_harmonics(3)\n",
    "additional_message_irreps = Irreps(\"1x0e\")"
   ]
  },
  {
   "attachments": {},
   "cell_type": "markdown",
   "metadata": {},
   "source": [
    "### Create hidden irreps"
   ]
  },
  {
   "cell_type": "code",
   "execution_count": 34,
   "metadata": {},
   "outputs": [],
   "source": [
    "from e3nn.o3 import Irreps\n",
    "from e3nn.o3 import Linear, spherical_harmonics, FullyConnectedTensorProduct\n",
    "\n",
    "\n",
    "def BalancedIrreps(lmax, vec_dim, sh_type=True):\n",
    "    \"\"\" Allocates irreps equally along channel budget, resulting\n",
    "        in unequal numbers of irreps in ratios of 2l_i + 1 to 2l_j + 1.\n",
    "    Parameters\n",
    "    ----------\n",
    "    lmax : int\n",
    "        Maximum order of irreps.\n",
    "    vec_dim : int\n",
    "        Dim of feature vector.\n",
    "    sh_type : bool\n",
    "        if true, use spherical harmonics. Else the full set of irreps (with redundance).\n",
    "    Returns\n",
    "    -------\n",
    "    Irreps\n",
    "        Resulting irreps for feature vectors.\n",
    "    \"\"\"\n",
    "    irrep_spec = \"0e\"\n",
    "    for l in range(1, lmax + 1):\n",
    "        if sh_type:\n",
    "            irrep_spec += \" + {0}\".format(l) + ('e' if (l % 2) == 0 else 'o')\n",
    "        else:\n",
    "            irrep_spec += \" + {0}e + {0}o\".format(l)\n",
    "    irrep_spec_split = irrep_spec.split(\" + \")\n",
    "    dims = [int(irrep[0]) * 2 + 1 for irrep in irrep_spec_split]\n",
    "    # Compute ratios\n",
    "    ratios = [1 / dim for dim in dims]\n",
    "    # Determine how many copies per irrep\n",
    "    irrep_copies = [int(vec_dim * r / len(ratios)) for r in ratios]\n",
    "    # Determine the current effective irrep sizes\n",
    "    irrep_dims = [n * dim for (n, dim) in zip(irrep_copies, dims)]\n",
    "    # Add trivial irreps until the desired size is reached\n",
    "    irrep_copies[0] += vec_dim - sum(irrep_dims)\n",
    "\n",
    "    # Convert to string\n",
    "    str_out = ''\n",
    "    for (spec, dim) in zip(irrep_spec_split, irrep_copies):\n",
    "        str_out += str(dim) + 'x' + spec\n",
    "        str_out += ' + '\n",
    "    str_out = str_out[:-3]\n",
    "    # Generate the irrep\n",
    "    return Irreps(str_out)\n",
    "\n",
    "\n",
    "def WeightBalancedIrreps(irreps_in1_scalar, irreps_in2, sh=True, lmax=None):\n",
    "    \"\"\"Determines an irreps_in1 type of order irreps_in2.lmax that when used in a tensor product\n",
    "    irreps_in1 x irreps_in2 -> irreps_in1\n",
    "    would have the same number of weights as for a standard linear layer, e.g. a tensor product\n",
    "    irreps_in1_scalar x \"1x0e\" -> irreps_in1_scalar\n",
    "    Parameters\n",
    "    ----------\n",
    "    irreps_in1_scalar : o3.Irreps\n",
    "        Number of hidden features, represented by zeroth order irreps.\n",
    "    irreps_in2 : o3.Irreps\n",
    "        Irreps related to edge attributes.\n",
    "    sh : bool\n",
    "        if true, yields equal number of every order. Else returns balanced irrep.\n",
    "    lmax : int\n",
    "        Maximum order irreps to be considered.\n",
    "    Returns\n",
    "    -------\n",
    "    o3.Irreps\n",
    "        Irreps for hidden feaure vectors.\n",
    "    \"\"\"\n",
    "\n",
    "    n = 1\n",
    "    if lmax == None:\n",
    "        lmax = irreps_in2.lmax\n",
    "    irreps_in1 = (Irreps.spherical_harmonics(lmax) * n).sort().irreps.simplify() if sh else BalancedIrreps(lmax, n)\n",
    "    weight_numel1 = FullyConnectedTensorProduct(irreps_in1, irreps_in2, irreps_in1).weight_numel\n",
    "    weight_numel_scalar = FullyConnectedTensorProduct(irreps_in1_scalar, Irreps(\"1x0e\"), irreps_in1_scalar).weight_numel\n",
    "    while weight_numel1 < weight_numel_scalar:  # TODO: somewhat suboptimal implementation...\n",
    "        n += 1\n",
    "        irreps_in1 = (Irreps.spherical_harmonics(lmax) * n).sort().irreps.simplify() if sh else BalancedIrreps(lmax, n)\n",
    "        weight_numel1 = FullyConnectedTensorProduct(irreps_in1, irreps_in2, irreps_in1).weight_numel\n",
    "    print('Determined irrep type:', irreps_in1)\n",
    "    return Irreps(irreps_in1)"
   ]
  },
  {
   "cell_type": "code",
   "execution_count": 35,
   "metadata": {},
   "outputs": [
    {
     "name": "stdout",
     "output_type": "stream",
     "text": [
      "Determined irrep type: 36x0e+36x1o+36x2e\n"
     ]
    }
   ],
   "source": [
    "hidden_irreps = WeightBalancedIrreps(\n",
    "            Irreps(\"{}x0e\".format(hidden_features)), node_attr_irreps, sh=True, lmax=lmax_h)"
   ]
  },
  {
   "attachments": {},
   "cell_type": "markdown",
   "metadata": {},
   "source": [
    "### SEGNN Model Build"
   ]
  },
  {
   "cell_type": "code",
   "execution_count": 36,
   "metadata": {},
   "outputs": [],
   "source": [
    "\n",
    "import torch\n",
    "import torch.nn as nn\n",
    "from torch_geometric.nn import MessagePassing, global_mean_pool, global_add_pool\n",
    "from e3nn.nn import BatchNorm, Gate\n",
    "from e3nn.o3 import Irreps, Linear, spherical_harmonics, FullyConnectedTensorProduct\n",
    "import numpy as np\n",
    "from math import sqrt"
   ]
  },
  {
   "cell_type": "code",
   "execution_count": 37,
   "metadata": {},
   "outputs": [],
   "source": [
    "class O3TensorProduct(nn.Module):\n",
    "    \"\"\" A bilinear layer, computing CG tensorproduct and normalising them.\n",
    "    Parameters\n",
    "    ----------\n",
    "    irreps_in1 : o3.Irreps\n",
    "        Input irreps.\n",
    "    irreps_out : o3.Irreps\n",
    "        Output irreps.\n",
    "    irreps_in2 : o3.Irreps\n",
    "        Second input irreps.\n",
    "    tp_rescale : bool\n",
    "        If true, rescales the tensor product.\n",
    "    \"\"\"\n",
    "\n",
    "    def __init__(self, irreps_in1, irreps_out, irreps_in2=None, tp_rescale=True) -> None:\n",
    "        super().__init__()\n",
    "\n",
    "        self.irreps_in1 = irreps_in1\n",
    "        self.irreps_out = irreps_out\n",
    "        # Init irreps_in2\n",
    "        if irreps_in2 == None:\n",
    "            self.irreps_in2_provided = False\n",
    "            self.irreps_in2 = Irreps(\"1x0e\")\n",
    "        else:\n",
    "            self.irreps_in2_provided = True\n",
    "            self.irreps_in2 = irreps_in2\n",
    "        self.tp_rescale = tp_rescale\n",
    "\n",
    "        # Build the layers\n",
    "        self.tp = FullyConnectedTensorProduct(\n",
    "            irreps_in1=self.irreps_in1,\n",
    "            irreps_in2=self.irreps_in2,\n",
    "            irreps_out=self.irreps_out, shared_weights=True, normalization='component')\n",
    "\n",
    "        # For each zeroth order output irrep we need a bias\n",
    "        # So first determine the order for each output tensor and their dims\n",
    "        self.irreps_out_orders = [int(irrep_str[-2]) for irrep_str in str(irreps_out).split('+')]\n",
    "        self.irreps_out_dims = [int(irrep_str.split('x')[0]) for irrep_str in str(irreps_out).split('+')]\n",
    "        self.irreps_out_slices = irreps_out.slices()\n",
    "        # Store tuples of slices and corresponding biases in a list\n",
    "        self.biases = []\n",
    "        self.biases_slices = []\n",
    "        self.biases_slice_idx = []\n",
    "        for slice_idx in range(len(self.irreps_out_orders)):\n",
    "            if self.irreps_out_orders[slice_idx] == 0:\n",
    "                out_slice = irreps_out.slices()[slice_idx]\n",
    "                out_bias = torch.zeros(self.irreps_out_dims[slice_idx], dtype=self.tp.weight.dtype)\n",
    "                self.biases += [out_bias]\n",
    "                self.biases_slices += [out_slice]\n",
    "                self.biases_slice_idx += [slice_idx]\n",
    "\n",
    "        # Initialize the correction factors\n",
    "        self.slices_sqrt_k = {}\n",
    "\n",
    "        # Initialize similar to the torch.nn.Linear\n",
    "        self.tensor_product_init()\n",
    "        # Adapt parameters so they can be applied using vector operations.\n",
    "        self.vectorise()\n",
    "\n",
    "    def tensor_product_init(self) -> None:\n",
    "        with torch.no_grad():\n",
    "            # Determine fan_in for each slice, it could be that each output slice is updated via several instructions\n",
    "            slices_fan_in = {}  # fan_in per slice\n",
    "            for weight, instr in zip(self.tp.weight_views(), self.tp.instructions):\n",
    "                slice_idx = instr[2]\n",
    "                mul_1, mul_2, mul_out = weight.shape\n",
    "                fan_in = mul_1 * mul_2\n",
    "                slices_fan_in[slice_idx] = (slices_fan_in[slice_idx] +\n",
    "                                            fan_in if slice_idx in slices_fan_in.keys() else fan_in)\n",
    "            # Do the initialization of the weights in each instruction\n",
    "            for weight, instr in zip(self.tp.weight_views(), self.tp.instructions):\n",
    "                # The tensor product in e3nn already normalizes proportional to 1 / sqrt(fan_in), and the weights are by\n",
    "                # default initialized with unif(-1,1). However, we want to be consistent with torch.nn.Linear and\n",
    "                # initialize the weights with unif(-sqrt(k),sqrt(k)), with k = 1 / fan_in\n",
    "                slice_idx = instr[2]\n",
    "                if self.tp_rescale:\n",
    "                    sqrt_k = 1 / sqrt(slices_fan_in[slice_idx])\n",
    "                else:\n",
    "                    sqrt_k = 1.\n",
    "                weight.data.uniform_(-sqrt_k, sqrt_k)\n",
    "                self.slices_sqrt_k[slice_idx] = (self.irreps_out_slices[slice_idx], sqrt_k)\n",
    "\n",
    "            # Initialize the biases\n",
    "            for (out_slice_idx, out_slice, out_bias) in zip(self.biases_slice_idx, self.biases_slices, self.biases):\n",
    "                sqrt_k = 1 / sqrt(slices_fan_in[out_slice_idx])\n",
    "                out_bias.uniform_(-sqrt_k, sqrt_k)\n",
    "\n",
    "    def vectorise(self):\n",
    "        \"\"\" Adapts the bias parameter and the sqrt_k corrections so they can be applied using vectorised operations \"\"\"\n",
    "\n",
    "        # Vectorise the bias parameters\n",
    "        if len(self.biases) > 0:\n",
    "            with torch.no_grad():\n",
    "                self.biases = torch.cat(self.biases, dim=0)\n",
    "            self.biases = nn.Parameter(self.biases)\n",
    "\n",
    "            # Compute broadcast indices.\n",
    "            bias_idx = torch.LongTensor()\n",
    "            for slice_idx in range(len(self.irreps_out_orders)):\n",
    "                if self.irreps_out_orders[slice_idx] == 0:\n",
    "                    out_slice = self.irreps_out.slices()[slice_idx]\n",
    "                    bias_idx = torch.cat((bias_idx, torch.arange(out_slice.start, out_slice.stop).long()), dim=0)\n",
    "\n",
    "            self.register_buffer(\"bias_idx\", bias_idx, persistent=False)\n",
    "        else:\n",
    "            self.biases = None\n",
    "\n",
    "        # Now onto the sqrt_k correction\n",
    "        sqrt_k_correction = torch.zeros(self.irreps_out.dim)\n",
    "        for instr in self.tp.instructions:\n",
    "            slice_idx = instr[2]\n",
    "            slice, sqrt_k = self.slices_sqrt_k[slice_idx]\n",
    "            sqrt_k_correction[slice] = sqrt_k\n",
    "\n",
    "        # Make sure bias_idx and sqrt_k_correction are on same device as module\n",
    "        self.register_buffer(\"sqrt_k_correction\", sqrt_k_correction, persistent=False)\n",
    "\n",
    "    def forward_tp_rescale_bias(self, data_in1, data_in2=None) -> torch.Tensor:\n",
    "        if data_in2 == None:\n",
    "            data_in2 = torch.ones_like(data_in1[:, 0:1])\n",
    "\n",
    "        data_out = self.tp(data_in1, data_in2)\n",
    "\n",
    "        # Apply corrections\n",
    "        if self.tp_rescale:\n",
    "            data_out /= self.sqrt_k_correction\n",
    "\n",
    "        # Add the biases\n",
    "        if self.biases is not None:\n",
    "            data_out[:, self.bias_idx] += self.biases\n",
    "        return data_out\n",
    "\n",
    "    def forward(self, data_in1, data_in2=None) -> torch.Tensor:\n",
    "        # Apply the tensor product, the rescaling and the bias\n",
    "        data_out = self.forward_tp_rescale_bias(data_in1, data_in2)\n",
    "        return data_out"
   ]
  },
  {
   "cell_type": "code",
   "execution_count": 38,
   "metadata": {},
   "outputs": [],
   "source": [
    "class O3TensorProductSwishGate(O3TensorProduct):\n",
    "    def __init__(self, irreps_in1, irreps_out, irreps_in2=None) -> None:\n",
    "        # For the gate the output of the linear needs to have an extra number of scalar irreps equal to the amount of\n",
    "        # non scalar irreps:\n",
    "        # The first type is assumed to be scalar and passed through the activation\n",
    "        irreps_g_scalars = Irreps(str(irreps_out[0]))\n",
    "        # The remaining types are gated\n",
    "        irreps_g_gate = Irreps(\"{}x0e\".format(irreps_out.num_irreps - irreps_g_scalars.num_irreps))\n",
    "        irreps_g_gated = Irreps(str(irreps_out[1:]))\n",
    "        # So the gate needs the following irrep as input, this is the output irrep of the tensor product\n",
    "        irreps_g = (irreps_g_scalars + irreps_g_gate + irreps_g_gated).simplify()\n",
    "\n",
    "        # Build the layers\n",
    "        super(O3TensorProductSwishGate, self).__init__(irreps_in1, irreps_g, irreps_in2)\n",
    "        if irreps_g_gated.num_irreps > 0:\n",
    "            self.gate = Gate(irreps_g_scalars, [nn.SiLU()], irreps_g_gate, [torch.sigmoid], irreps_g_gated)\n",
    "        else:\n",
    "            self.gate = nn.SiLU()\n",
    "\n",
    "    def forward(self, data_in1, data_in2=None) -> torch.Tensor:\n",
    "        # Apply the tensor product, the rescaling and the bias\n",
    "        data_out = self.forward_tp_rescale_bias(data_in1, data_in2)\n",
    "        # Apply the gate\n",
    "        data_out = self.gate(data_out)\n",
    "        # Return result\n",
    "        return data_out"
   ]
  },
  {
   "cell_type": "code",
   "execution_count": 39,
   "metadata": {},
   "outputs": [],
   "source": [
    "class O3SwishGate(torch.nn.Module):\n",
    "    def __init__(self, irreps_g_scalars, irreps_g_gate, irreps_g_gated) -> None:\n",
    "        super().__init__()\n",
    "        if irreps_g_gated.num_irreps > 0:\n",
    "            self.gate = Gate(irreps_g_scalars, [nn.SiLU()], irreps_g_gate, [torch.sigmoid], irreps_g_gated)\n",
    "        else:\n",
    "            self.gate = nn.SiLU()\n",
    "\n",
    "    def forward(self, data_in) -> torch.Tensor:\n",
    "        data_out = self.gate(data_in)\n",
    "        return data_out"
   ]
  },
  {
   "attachments": {},
   "cell_type": "markdown",
   "metadata": {},
   "source": [
    "The purpose of Instance Normalization is to normalize each feature vector in the input tensor by its norm, which is invariant under orthonormal representations. The normalization is applied separately to each batch element and feature vector. In addition to normalization, Instance Normalization can also apply an affine transformation to each feature vector, consisting of a learned weight and bias parameter."
   ]
  },
  {
   "cell_type": "code",
   "execution_count": 42,
   "metadata": {},
   "outputs": [],
   "source": [
    "class InstanceNorm(nn.Module):\n",
    "    '''Instance normalization for orthonormal representations\n",
    "    It normalizes by the norm of the representations.\n",
    "    Note that the norm is invariant only for orthonormal representations.\n",
    "    Irreducible representations `wigner_D` are orthonormal.\n",
    "    Parameters\n",
    "    ----------\n",
    "    irreps : `Irreps`\n",
    "        representation\n",
    "    eps : float\n",
    "        avoid division by zero when we normalize by the variance\n",
    "    affine : bool\n",
    "        do we have weight and bias parameters\n",
    "    reduce : {'mean', 'max'}\n",
    "        method used to reduce\n",
    "    '''\n",
    "\n",
    "    def __init__(self, irreps, eps=1e-5, affine=True, reduce='mean', normalization='component'):\n",
    "        super().__init__()\n",
    "\n",
    "        self.irreps = Irreps(irreps)\n",
    "        self.eps = eps\n",
    "        self.affine = affine\n",
    "\n",
    "        num_scalar = sum(mul for mul, ir in self.irreps if ir.l == 0)\n",
    "        num_features = self.irreps.num_irreps\n",
    "\n",
    "        if affine:\n",
    "            self.weight = nn.Parameter(torch.ones(num_features))\n",
    "            self.bias = nn.Parameter(torch.zeros(num_scalar))\n",
    "        else:\n",
    "            self.register_parameter('weight', None)\n",
    "            self.register_parameter('bias', None)\n",
    "\n",
    "        assert isinstance(reduce, str), \"reduce should be passed as a string value\"\n",
    "        assert reduce in ['mean', 'max'], \"reduce needs to be 'mean' or 'max'\"\n",
    "        self.reduce = reduce\n",
    "\n",
    "        assert normalization in ['norm', 'component'], \"normalization needs to be 'norm' or 'component'\"\n",
    "        self.normalization = normalization\n",
    "\n",
    "    def __repr__(self):\n",
    "        return f\"{self.__class__.__name__} ({self.irreps}, eps={self.eps})\"\n",
    "\n",
    "    def forward(self, input, batch):\n",
    "        '''evaluate\n",
    "        Parameters\n",
    "        ----------\n",
    "        input : `torch.Tensor`\n",
    "            tensor of shape ``(batch, ..., irreps.dim)``\n",
    "        Returns\n",
    "        -------\n",
    "        `torch.Tensor`\n",
    "            tensor of shape ``(batch, ..., irreps.dim)``\n",
    "        '''\n",
    "        # batch, *size, dim = input.shape  # TODO: deal with batch\n",
    "        # input = input.reshape(batch, -1, dim)  # [batch, sample, stacked features]\n",
    "        # input has shape [batch * nodes, dim], but with variable nr of nodes.\n",
    "        # the input batch slices this into separate graphs\n",
    "        dim = input.shape[-1]\n",
    "\n",
    "        fields = []\n",
    "        ix = 0\n",
    "        iw = 0\n",
    "        ib = 0\n",
    "\n",
    "        for mul, ir in self.irreps:  # mul is the multiplicity (number of copies) of some irrep type (ir)\n",
    "            d = ir.dim\n",
    "            field = input[:, ix: ix + mul * d]  # [batch * sample, mul * repr]\n",
    "            ix += mul * d\n",
    "\n",
    "            # [batch * sample, mul, repr]\n",
    "            field = field.reshape(-1, mul, d)\n",
    "\n",
    "            # For scalars first compute and subtract the mean\n",
    "            if ir.l == 0:\n",
    "                # Compute the mean\n",
    "                field_mean = global_mean_pool(field, batch).reshape(-1, mul, 1)  # [batch, mul, 1]]\n",
    "                # Subtract the mean\n",
    "                field = field - field_mean[batch]\n",
    "\n",
    "            # Then compute the rescaling factor (norm of each feature vector)\n",
    "            # Rescaling of the norms themselves based on the option \"normalization\"\n",
    "            if self.normalization == 'norm':\n",
    "                field_norm = field.pow(2).sum(-1)  # [batch * sample, mul]\n",
    "            elif self.normalization == 'component':\n",
    "                field_norm = field.pow(2).mean(-1)  # [batch * sample, mul]\n",
    "            else:\n",
    "                raise ValueError(\"Invalid normalization option {}\".format(self.normalization))\n",
    "            # Reduction method\n",
    "            if self.reduce == 'mean':\n",
    "                field_norm = global_mean_pool(field_norm, batch)  # [batch, mul]\n",
    "            elif self.reduce == 'max':\n",
    "                field_norm = global_max_pool(field_norm, batch)  # [batch, mul]\n",
    "            else:\n",
    "                raise ValueError(\"Invalid reduce option {}\".format(self.reduce))\n",
    "\n",
    "            # Then apply the rescaling (divide by the sqrt of the squared_norm, i.e., divide by the norm\n",
    "            field_norm = (field_norm + self.eps).pow(-0.5)  # [batch, mul]\n",
    "\n",
    "            if self.affine:\n",
    "                weight = self.weight[None, iw: iw + mul]  # [batch, mul]\n",
    "                iw += mul\n",
    "                field_norm = field_norm * weight  # [batch, mul]\n",
    "\n",
    "            field = field * field_norm[batch].reshape(-1, mul, 1)  # [batch * sample, mul, repr]\n",
    "\n",
    "            if self.affine and d == 1:  # scalars\n",
    "                bias = self.bias[ib: ib + mul]  # [batch, mul]\n",
    "                ib += mul\n",
    "                field += bias.reshape(mul, 1)  # [batch * sample, mul, repr]\n",
    "\n",
    "            # Save the result, to be stacked later with the rest\n",
    "            fields.append(field.reshape(-1, mul * d))  # [batch * sample, mul * repr]\n",
    "\n",
    "        if ix != dim:\n",
    "            fmt = \"`ix` should have reached input.size(-1) ({}), but it ended at {}\"\n",
    "            msg = fmt.format(dim, ix)\n",
    "            raise AssertionError(msg)\n",
    "\n",
    "        output = torch.cat(fields, dim=-1)  # [batch * sample, stacked features]\n",
    "        return output"
   ]
  },
  {
   "attachments": {},
   "cell_type": "markdown",
   "metadata": {},
   "source": [
    "## SEGNN Implementation"
   ]
  },
  {
   "attachments": {},
   "cell_type": "markdown",
   "metadata": {},
   "source": [
    "### Message Passing layer"
   ]
  },
  {
   "attachments": {},
   "cell_type": "markdown",
   "metadata": {},
   "source": [
    "The constructor initializes several layers for message passing and node updates. Specifically, it initializes two O3TensorProductSwishGate layers for computing messages, and two O3TensorProduct layers for updating node features. It also sets up normalisation, either batch or instance norm.\n",
    "\n",
    "The forward method takes node features, edge indices, edge features, node attributes, batch indices, and additional message features as input, and propagates messages along edges using the propagate method of MessagePassing. It then applies normalisation to the resulting node features.\n",
    "\n",
    "The message method computes messages using the message_layer_1 and message_layer_2 layers, and applies normalisation to the resulting messages. It takes input node features of sender and receiver nodes, edge attributes, and additional message features as input.\n",
    "\n",
    "The update method updates node features using the update_layer_1 and update_layer_2 layers, and adds a residual connection to the original node features. It takes messages, node features, and node attributes as input, and returns updated node features."
   ]
  },
  {
   "cell_type": "code",
   "execution_count": 43,
   "metadata": {},
   "outputs": [],
   "source": [
    "class SEGNNLayer(MessagePassing):\n",
    "    \"\"\"E(3) equivariant message passing layer.\"\"\"\n",
    "\n",
    "    def __init__(\n",
    "        self,\n",
    "        input_irreps,\n",
    "        hidden_irreps,\n",
    "        output_irreps,\n",
    "        edge_attr_irreps,\n",
    "        node_attr_irreps,\n",
    "        norm=None,\n",
    "        additional_message_irreps=None,\n",
    "    ):\n",
    "        super().__init__(node_dim=-2, aggr=\"add\")\n",
    "        self.hidden_irreps = hidden_irreps\n",
    "\n",
    "        message_input_irreps = (2 * input_irreps + additional_message_irreps).simplify()\n",
    "        update_input_irreps = (input_irreps + hidden_irreps).simplify()\n",
    "\n",
    "        self.message_layer_1 = O3TensorProductSwishGate(\n",
    "            message_input_irreps, hidden_irreps, edge_attr_irreps\n",
    "        )\n",
    "        self.message_layer_2 = O3TensorProductSwishGate(\n",
    "            hidden_irreps, hidden_irreps, edge_attr_irreps\n",
    "        )\n",
    "        self.update_layer_1 = O3TensorProductSwishGate(\n",
    "            update_input_irreps, hidden_irreps, node_attr_irreps\n",
    "        )\n",
    "        self.update_layer_2 = O3TensorProduct(\n",
    "            hidden_irreps, hidden_irreps, node_attr_irreps\n",
    "        )\n",
    "\n",
    "        self.setup_normalisation(norm)\n",
    "\n",
    "    def setup_normalisation(self, norm):\n",
    "        \"\"\"Set up normalisation, either batch or instance norm\"\"\"\n",
    "        self.norm = norm\n",
    "        self.feature_norm = None\n",
    "        self.message_norm = None\n",
    "\n",
    "        if norm == \"batch\":\n",
    "            self.feature_norm = BatchNorm(self.hidden_irreps)\n",
    "            self.message_norm = BatchNorm(self.hidden_irreps)\n",
    "        elif norm == \"instance\":\n",
    "            self.feature_norm = InstanceNorm(self.hidden_irreps)\n",
    "\n",
    "        self.feature_norm = InstanceNorm(self.hidden_irreps)\n",
    "\n",
    "    def forward(\n",
    "        self,\n",
    "        x,\n",
    "        edge_index,\n",
    "        edge_attr,\n",
    "        node_attr,\n",
    "        batch,\n",
    "        additional_message_features=None,\n",
    "    ):\n",
    "        \"\"\"Propagate messages along edges\"\"\"\n",
    "        x = self.propagate(\n",
    "            edge_index,\n",
    "            x=x,\n",
    "            node_attr=node_attr,\n",
    "            edge_attr=edge_attr,\n",
    "            additional_message_features=additional_message_features,\n",
    "        )\n",
    "        # Normalise features\n",
    "        if self.feature_norm:\n",
    "            if self.norm == \"batch\":\n",
    "                x = self.feature_norm(x)\n",
    "            elif self.norm == \"instance\":\n",
    "                x = self.feature_norm(x, batch)\n",
    "            x = self.feature_norm(x, batch)\n",
    "        return x\n",
    "\n",
    "    def message(self, x_i, x_j, edge_attr, additional_message_features):\n",
    "        \"\"\"Create messages\"\"\"\n",
    "        if additional_message_features is None:\n",
    "            input = torch.cat((x_i, x_j), dim=-1)\n",
    "        else:\n",
    "            input = torch.cat((x_i, x_j, additional_message_features), dim=-1)\n",
    "\n",
    "        message = self.message_layer_1(input, edge_attr)\n",
    "        message = self.message_layer_2(message, edge_attr)\n",
    "\n",
    "        if self.message_norm:\n",
    "            message = self.message_norm(message)\n",
    "        return message\n",
    "\n",
    "    def update(self, message, x, node_attr):\n",
    "        \"\"\"Update note features\"\"\"\n",
    "        input = torch.cat((x, message), dim=-1)\n",
    "        update = self.update_layer_1(input, node_attr)\n",
    "        update = self.update_layer_2(update, node_attr)\n",
    "        x += update  # Residual connection\n",
    "        return x"
   ]
  },
  {
   "attachments": {},
   "cell_type": "markdown",
   "metadata": {},
   "source": [
    "### Steerable modules"
   ]
  },
  {
   "attachments": {},
   "cell_type": "markdown",
   "metadata": {},
   "source": [
    "The `__init__` method initializes the neural network's architecture, which consists of an embedding layer, several message passing layers, and output layers. The `forward` method performs the forward pass of the neural network on a graph object.\n",
    "\n",
    "During the forward pass, the graph object's features are first embedded using the `embedding_layer`. The resulting node features are then passed through the layers, which perform message passing between nodes. The output from the message passing layers is then processed by the `pre_pool1` and `pre_pool2` layers to prepare it for pooling.\n",
    "\n",
    "The pooling method is determined by the pool argument passed to the SEGNN constructor. Currently, the module supports average and sum pooling. If the output task is graph-level, the pooled output is passed through the `post_pool1` and `post_pool2` layers to produce the final output. If the output task is node-level, the pooled output is passed through the `pre_pool2` layer to produce the final output.\n",
    "\n",
    "The `catch_isolated_nodes` method is used to handle isolated nodes in the input graph, which should still receive node attributes. If the input graph contains isolated nodes, new attributes are added to the graph object to ensure that every node has an attribute."
   ]
  },
  {
   "cell_type": "code",
   "execution_count": 44,
   "metadata": {},
   "outputs": [],
   "source": [
    "class SEGNN(nn.Module):\n",
    "    \"\"\"Steerable E(3) equivariant message passing network\"\"\"\n",
    "\n",
    "    def __init__(\n",
    "        self,\n",
    "        input_irreps,\n",
    "        hidden_irreps,\n",
    "        output_irreps,\n",
    "        edge_attr_irreps,\n",
    "        node_attr_irreps,\n",
    "        num_layers,\n",
    "        norm=None,\n",
    "        pool=\"avg\",\n",
    "        task=\"graph\",\n",
    "        additional_message_irreps=None,\n",
    "    ):\n",
    "        super().__init__()\n",
    "        self.task = task\n",
    "        # Create network, embedding first\n",
    "        # self.embedding_layer_1 = O3TensorProductSwishGate(\n",
    "        #     input_irreps, hidden_irreps, node_attr_irreps\n",
    "        # )\n",
    "        # self.embedding_layer_2 = O3TensorProduct(\n",
    "        #     hidden_irreps, hidden_irreps, node_attr_irreps\n",
    "        # )\n",
    "\n",
    "        self.embedding_layer = O3TensorProduct(\n",
    "            input_irreps, hidden_irreps, node_attr_irreps\n",
    "        )\n",
    "\n",
    "        # Message passing layers.\n",
    "        layers = []\n",
    "        for i in range(num_layers):\n",
    "            layers.append(\n",
    "                SEGNNLayer(\n",
    "                    hidden_irreps,\n",
    "                    hidden_irreps,\n",
    "                    hidden_irreps,\n",
    "                    edge_attr_irreps,\n",
    "                    node_attr_irreps,\n",
    "                    norm=norm,\n",
    "                    additional_message_irreps=additional_message_irreps,\n",
    "                )\n",
    "            )\n",
    "        self.layers = nn.ModuleList(layers)\n",
    "\n",
    "        # Prepare for output irreps, since the attrs will disappear after pooling\n",
    "        if task == \"graph\":\n",
    "            pooled_irreps = (\n",
    "                (output_irreps * hidden_irreps.num_irreps).simplify().sort().irreps\n",
    "            )\n",
    "            self.pre_pool1 = O3TensorProductSwishGate(\n",
    "                hidden_irreps, hidden_irreps, node_attr_irreps\n",
    "            )\n",
    "            self.pre_pool2 = O3TensorProduct(\n",
    "                hidden_irreps, pooled_irreps, node_attr_irreps\n",
    "            )\n",
    "            self.post_pool1 = O3TensorProductSwishGate(pooled_irreps, pooled_irreps)\n",
    "            self.post_pool2 = O3TensorProduct(pooled_irreps, output_irreps)\n",
    "            self.init_pooler(pool)\n",
    "        elif task == \"node\":\n",
    "            self.pre_pool1 = O3TensorProductSwishGate(\n",
    "                hidden_irreps, hidden_irreps, node_attr_irreps\n",
    "            )\n",
    "            self.pre_pool2 = O3TensorProduct(\n",
    "                hidden_irreps, output_irreps, node_attr_irreps\n",
    "            )\n",
    "\n",
    "    def init_pooler(self, pool):\n",
    "        \"\"\"Initialise pooling mechanism\"\"\"\n",
    "        if pool == \"avg\":\n",
    "            self.pooler = global_mean_pool\n",
    "        elif pool == \"sum\":\n",
    "            self.pooler = global_add_pool\n",
    "\n",
    "    def catch_isolated_nodes(self, graph):\n",
    "        \"\"\"Isolated nodes should also obtain attributes\"\"\"\n",
    "        if (\n",
    "            graph.contains_isolated_nodes()\n",
    "            and graph.edge_index.max().item() + 1 != graph.num_nodes\n",
    "        ):\n",
    "            nr_add_attr = graph.num_nodes - (graph.edge_index.max().item() + 1)\n",
    "            add_attr = graph.node_attr.new_tensor(\n",
    "                np.zeros((nr_add_attr, node_attr.shape[-1]))\n",
    "            )\n",
    "            graph.node_attr = torch.cat((graph.node_attr, add_attr), -2)\n",
    "        # Trivial irrep value should always be 1 (is automatically so for connected nodes, but isolated nodes are now 0)\n",
    "        graph.node_attr[:, 0] = 1.0\n",
    "\n",
    "    def forward(self, graph):\n",
    "        \"\"\"SEGNN forward pass\"\"\"\n",
    "        x, pos, edge_index, edge_attr, node_attr, batch = (\n",
    "            graph.x,\n",
    "            graph.pos,\n",
    "            graph.edge_index,\n",
    "            graph.edge_attr,\n",
    "            graph.node_attr,\n",
    "            graph.batch,\n",
    "        )\n",
    "        try:\n",
    "            additional_message_features = graph.additional_message_features\n",
    "        except AttributeError:\n",
    "            additional_message_features = None\n",
    "\n",
    "        self.catch_isolated_nodes(graph)\n",
    "\n",
    "        # Embed\n",
    "        # x = self.embedding_layer_1(x, node_attr)\n",
    "        # x = self.embedding_layer_2(x, node_attr)\n",
    "        x = self.embedding_layer(x, node_attr)\n",
    "\n",
    "        # Pass messages\n",
    "        # This iteration applies each layer's forward method sequentially to the input tensor x. \n",
    "        for layer in self.layers:\n",
    "            x = layer(\n",
    "                x, edge_index, edge_attr, node_attr, batch, additional_message_features\n",
    "            )\n",
    "\n",
    "        # Pre pool\n",
    "        x = self.pre_pool1(x, node_attr)\n",
    "        x = self.pre_pool2(x, node_attr)\n",
    "\n",
    "        if self.task == \"graph\":\n",
    "            # Pool over nodes\n",
    "            x = self.pooler(x, batch)\n",
    "\n",
    "            # Predict\n",
    "            x = self.post_pool1(x)\n",
    "            x = self.post_pool2(x)\n",
    "        return x"
   ]
  },
  {
   "cell_type": "code",
   "execution_count": 45,
   "metadata": {},
   "outputs": [],
   "source": [
    "model = SEGNN(input_irreps,\n",
    "              hidden_irreps,\n",
    "              output_irreps,\n",
    "              edge_attr_irreps,\n",
    "              node_attr_irreps,\n",
    "              num_layers=layers,\n",
    "              norm=norm,\n",
    "              pool=pool,\n",
    "              task=task,\n",
    "              additional_message_irreps=additional_message_irreps)"
   ]
  },
  {
   "cell_type": "code",
   "execution_count": 46,
   "metadata": {},
   "outputs": [
    {
     "name": "stdout",
     "output_type": "stream",
     "text": [
      "<class '__main__.QM9'>\n"
     ]
    }
   ],
   "source": [
    "print(type(dataset))"
   ]
  },
  {
   "cell_type": "code",
   "execution_count": 47,
   "metadata": {},
   "outputs": [],
   "source": [
    "ID = \"_\".join([\"segnn\", str(dataset), target, str(np.random.randint(1e4, 1e5))])\n"
   ]
  },
  {
   "cell_type": "code",
   "execution_count": 48,
   "metadata": {},
   "outputs": [
    {
     "data": {
      "text/plain": [
       "'segnn_QM9(130831)_alpha_96627'"
      ]
     },
     "execution_count": 48,
     "metadata": {},
     "output_type": "execute_result"
    }
   ],
   "source": [
    "ID"
   ]
  },
  {
   "cell_type": "code",
   "execution_count": 49,
   "metadata": {},
   "outputs": [
    {
     "name": "stdout",
     "output_type": "stream",
     "text": [
      "SEGNN(\n",
      "  (embedding_layer): O3TensorProduct(\n",
      "    (tp): FullyConnectedTensorProduct(5x0e x 1x0e+1x1o+1x2e+1x3o -> 36x0e+36x1o+36x2e | 540 paths | 540 weights)\n",
      "  )\n",
      "  (layers): ModuleList(\n",
      "    (0): SEGNNLayer()\n",
      "  )\n",
      "  (pre_pool1): O3TensorProductSwishGate(\n",
      "    (tp): FullyConnectedTensorProduct(36x0e+36x1o+36x2e x 1x0e+1x1o+1x2e+1x3o -> 108x0e+36x1o+36x2e | 24624 paths | 24624 weights)\n",
      "    (gate): Gate (108x0e+36x1o+36x2e -> 36x0e+36x1o+36x2e)\n",
      "  )\n",
      "  (pre_pool2): O3TensorProduct(\n",
      "    (tp): FullyConnectedTensorProduct(36x0e+36x1o+36x2e x 1x0e+1x1o+1x2e+1x3o -> 108x0e | 11664 paths | 11664 weights)\n",
      "  )\n",
      "  (post_pool1): O3TensorProductSwishGate(\n",
      "    (tp): FullyConnectedTensorProduct(108x0e x 1x0e -> 108x0e | 11664 paths | 11664 weights)\n",
      "    (gate): SiLU()\n",
      "  )\n",
      "  (post_pool2): O3TensorProduct(\n",
      "    (tp): FullyConnectedTensorProduct(108x0e x 1x0e -> 1x0e | 108 paths | 108 weights)\n",
      "  )\n",
      ")\n"
     ]
    }
   ],
   "source": [
    "print(model)\n"
   ]
  },
  {
   "cell_type": "code",
   "execution_count": 50,
   "metadata": {},
   "outputs": [
    {
     "name": "stdout",
     "output_type": "stream",
     "text": [
      "The model has 189,613 parameters.\n"
     ]
    }
   ],
   "source": [
    "print(\"The model has {:,} parameters.\".format(sum(p.numel() for p in model.parameters())))"
   ]
  },
  {
   "attachments": {},
   "cell_type": "markdown",
   "metadata": {},
   "source": [
    "## Training"
   ]
  },
  {
   "cell_type": "code",
   "execution_count": 51,
   "metadata": {},
   "outputs": [],
   "source": [
    "import wandb\n",
    "import numpy as np\n",
    "import os\n",
    "import torch\n",
    "import torch.nn as nn\n",
    "import torch.distributed as dist\n",
    "from torch.optim.lr_scheduler import MultiStepLR"
   ]
  },
  {
   "attachments": {},
   "cell_type": "markdown",
   "metadata": {},
   "source": [
    "First let's define evaluation function."
   ]
  },
  {
   "attachments": {},
   "cell_type": "markdown",
   "metadata": {},
   "source": [
    "In here, the `N` tensor will be used to keep track of the total number of samples in the dataloader, and `score` tensor will be used to keep track of the sum of the losses computed for each sample."
   ]
  },
  {
   "cell_type": "code",
   "execution_count": 52,
   "metadata": {},
   "outputs": [],
   "source": [
    "def evaluate(model, dataloader, criterion, device, loc=0, scale=1):\n",
    "    \"\"\" Evaluate a model on the dataloader, with distributed communication (if necessary) \"\"\"\n",
    "    model.eval()\n",
    "    N = torch.zeros(1).to(device)\n",
    "    score = torch.zeros(1).to(device)\n",
    "\n",
    "    with torch.no_grad():  #ensure that the computation graph is not built, which saves memory and speeds up the process. \n",
    "        for graph in dataloader:\n",
    "            graph = graph.to(device)\n",
    "            out = model(graph).squeeze()\n",
    "\n",
    "            n = graph.y.size(0)\n",
    "            N += n\n",
    "            score += n*criterion(out*scale + loc, graph.y)\n",
    "\n",
    "    model.train()\n",
    "    # if world_size > 1:\n",
    "    #     dist.all_reduce(score)\n",
    "    #     dist.all_reduce(N)\n",
    "\n",
    "    return (score/N).item()"
   ]
  },
  {
   "cell_type": "code",
   "execution_count": 53,
   "metadata": {},
   "outputs": [],
   "source": [
    "import os\n",
    "\n",
    "\n",
    "def save_model(epoch, model, optimizer, loss, save_dir, id, gpu=\"\"):\n",
    "    \"\"\" Save a checkpoint \"\"\"\n",
    "    os.makedirs(save_dir, exist_ok=True)\n",
    "    if gpu != \"\":\n",
    "        gpu = \"_\" + str(gpu)\n",
    "    \n",
    "    checkpoint = {\n",
    "        'epoch': epoch,\n",
    "        'model_state_dict': model.state_dict(),\n",
    "        'optimizer_state_dict': optimizer.state_dict(),\n",
    "        'loss': loss,\n",
    "    }\n",
    "    \n",
    "    torch.save(checkpoint, os.path.join(save_dir, f\"{id}{gpu}_checkpoint.pt\"))"
   ]
  },
  {
   "cell_type": "code",
   "execution_count": 54,
   "metadata": {},
   "outputs": [],
   "source": [
    "def load_model(model, optimizer, save_dir, id, gpu=\"\"):\n",
    "    \"\"\" Load a checkpoint \"\"\"\n",
    "    if gpu != \"\":\n",
    "        gpu = \"_\" + str(gpu)\n",
    "    \n",
    "    checkpoint = torch.load(os.path.join(save_dir, f\"{id}{gpu}_checkpoint.pt\"))\n",
    "    model.load_state_dict(checkpoint['model_state_dict'])\n",
    "    optimizer.load_state_dict(checkpoint['optimizer_state_dict'])\n",
    "    epoch = checkpoint['epoch']\n",
    "    loss = checkpoint['loss']\n",
    "    \n",
    "    return model, optimizer, epoch, loss"
   ]
  },
  {
   "attachments": {},
   "cell_type": "markdown",
   "metadata": {},
   "source": [
    "Now let's define training function.\n",
    "\n",
    "The function first creates dataloaders for the training, validation, and test sets using the make_dataloader() function. It also calculates the mean and MAD (median absolute deviation) of the target variable in the training set.\n",
    "\n",
    "The optimizer and learning rate scheduler are set up next, followed by the loss function (in this case, L1 loss). The function then initializes the logging and wandb parameters (if logging is enabled) and starts the training loop.\n",
    "\n",
    "For each epoch, the function loops through the training set and trains the model using the optimizer and loss function. The function also logs training statistics and evaluates the model on the validation set after each epoch. The learning rate is adjusted using the scheduler.\n",
    "\n",
    "Finally, the function evaluates the model on the test set and logs the test MAE. If logging is enabled, the function saves the trained model to disk and finishes the logging. "
   ]
  },
  {
   "cell_type": "code",
   "execution_count": 57,
   "metadata": {},
   "outputs": [],
   "source": [
    "print_variable=100\n",
    "lr = 5e-4 #learning rate\n",
    "weight_decay=1e-8\n",
    "def train(gpu, model, start_epoch=0):\n",
    "    \n",
    "    device = 'cuda:' + str(gpu)\n",
    "    \n",
    "    model = model.to(device)\n",
    "\n",
    "    # Create datasets and dataloaders\n",
    "    # train_loader = utils.make_dataloader(QM9(args.root, args.target, args.radius, \"train\", args.lmax_attr,\n",
    "    #                                          feature_type=args.feature_type), args.batch_size, args.num_workers, args.gpus, gpu)\n",
    "    # valid_loader = utils.make_dataloader(QM9(args.root, args.target, args.radius, \"valid\", args.lmax_attr,\n",
    "    #                                          feature_type=args.feature_type), args.batch_size, args.num_workers, args.gpus, gpu, train=False)\n",
    "    # test_loader = utils.make_dataloader(QM9(args.root, args.target, args.radius, \"test\", args.lmax_attr,\n",
    "    #                                         feature_type=args.feature_type), args.batch_size, args.num_workers, args.gpus, gpu, train=False)\n",
    "\n",
    "    # Get train set statistics\n",
    "    target_mean, target_mad = train_loader.dataset.calc_stats()\n",
    "\n",
    "    # Set up optimizer and loss function\n",
    "    optimizer = torch.optim.Adam(model.parameters(), lr=lr, weight_decay=weight_decay)\n",
    "    scheduler = MultiStepLR(optimizer, milestones=[int(0.8*(epochs)), int(0.9*(epochs))], verbose=True)\n",
    "    criterion = nn.L1Loss()\n",
    "\n",
    "    # Logging parameters\n",
    "    # target = args.target\n",
    "\n",
    "    if start_epoch > 0:\n",
    "        model, optimizer, start_epoch, best_valid_MAE = load_model(model, optimizer, save_dir, ID, device)\n",
    "    \n",
    "\n",
    "\n",
    "\n",
    "    best_valid_MAE = 1e30\n",
    "    i = 0\n",
    "    N_samples = 0\n",
    "    loss_sum = 0\n",
    "    train_MAE_sum = 0\n",
    "\n",
    "    epochs_list = []\n",
    "    train_mae_list = []\n",
    "    loss_list = []\n",
    "    valid_mae_list = []\n",
    "    best_valid_mae_list = []\n",
    "\n",
    "    # # Init wandb\n",
    "    # if log and gpu == 0:\n",
    "    #     wandb.init(project=\"SEGNN \" + str(dataset) + \" \" + target, name=ID, entity=\"segnn\")\n",
    "\n",
    "    # Let's start!\n",
    "    # if gpu == 0:\n",
    "    print(\"Training:\", ID)\n",
    "    for epoch in range(start_epoch, epochs):\n",
    "        # # Set epoch so shuffling works right in distributed mode.\n",
    "        # if args.gpus > 1:\n",
    "        #     train_loader.sampler.set_epoch(epoch)\n",
    "        # Training loop\n",
    "\n",
    "\n",
    "        save_model(epoch, model, optimizer, best_valid_MAE, save_dir, ID, device)\n",
    "\n",
    "        for step, graph in enumerate(train_loader):\n",
    "            # Forward & Backward.\n",
    "            graph = graph.to(device)\n",
    "            out = model(graph).squeeze()\n",
    "            loss = criterion(out, (graph.y - target_mean)/target_mad)\n",
    "            optimizer.zero_grad()\n",
    "            loss.backward()\n",
    "            optimizer.step()\n",
    "\n",
    "            # Logging\n",
    "            i += 1\n",
    "            N_samples += graph.y.size(0)\n",
    "            loss_sum += loss\n",
    "            train_MAE_sum += criterion(out.detach()*target_mad + target_mean, graph.y)*graph.y.size(0)\n",
    "\n",
    "            # Report\n",
    "            if i % print_variable == 0:\n",
    "                print(\"epoch:%2d  step:%4d  loss: %0.4f  train MAE:%0.4f\" %\n",
    "                      (epoch, step, loss_sum/i, train_MAE_sum/N_samples))\n",
    "                \n",
    "                epochs_list.append(epoch)\n",
    "                train_mae_list.append(train_MAE_sum/N_samples)\n",
    "                loss_list.append(loss_sum/i)\n",
    "\n",
    "                # if log and gpu == 0:\n",
    "                #     wandb.log({\"loss\": loss_sum/i, target + \" train MAE\": train_MAE_sum /\n",
    "                #                N_samples})\n",
    "\n",
    "                i = 0\n",
    "                N_samples = 0\n",
    "                loss_sum = 0\n",
    "                train_MAE_sum = 0\n",
    "\n",
    "        # Evaluate on validation set\n",
    "        valid_MAE = evaluate(model, valid_loader, criterion, device, target_mean, target_mad)\n",
    "        # Save best validation model\n",
    "        if valid_MAE < best_valid_MAE:\n",
    "            best_valid_MAE = valid_MAE\n",
    "            save_model(model, save_dir, ID, device)\n",
    "            best_valid_mae_list.append(best_valid_MAE)\n",
    "            \n",
    "        # if gpu == 0:\n",
    "        print(\"VALIDATION: epoch:%2d  step:%4d  %s-MAE:%0.4f\" %\n",
    "                (epoch, step, target, valid_MAE))\n",
    "        valid_mae_list.append(valid_MAE)\n",
    "            # if log:\n",
    "            #     wandb.log({target + \" val MAE\": valid_MAE})\n",
    "\n",
    "        # Adapt learning rate\n",
    "        scheduler.step()\n",
    "\n",
    "    # Final evaluation on test set\n",
    "    model = load_model(model, save_dir, ID, device)\n",
    "    test_MAE = evaluate(model, test_loader, criterion, device, target_mean, target_mad, )\n",
    "    # if gpu == 0:\n",
    "    print(\"TEST: epoch:%2d  step:%4d  %s-MAE:%0.4f\" %\n",
    "            (epoch, step, target, test_MAE))\n",
    "    #     if log:\n",
    "    #         wandb.log({target + \" test MAE\": test_MAE})\n",
    "    #         wandb.save(os.path.join(save_dir, ID + \"_\" + device + \".pt\"))\n",
    "\n",
    "    # if log and gpu == 0:\n",
    "    #     wandb.finish()"
   ]
  },
  {
   "cell_type": "code",
   "execution_count": 58,
   "metadata": {},
   "outputs": [
    {
     "name": "stdout",
     "output_type": "stream",
     "text": [
      "Starting training on a single gpu...\n",
      "Adjusting learning rate of group 0 to 5.0000e-04.\n",
      "Training: segnn_QM9(130831)_alpha_96627\n"
     ]
    },
    {
     "name": "stderr",
     "output_type": "stream",
     "text": [
      "/home/intern/anaconda3/envs/envname/lib/python3.8/site-packages/torch_geometric/deprecation.py:13: UserWarning: 'contains_isolated_nodes' is deprecated, use 'has_isolated_nodes' instead\n",
      "  warnings.warn(out)\n"
     ]
    },
    {
     "name": "stdout",
     "output_type": "stream",
     "text": [
      "epoch: 0  step:  99  loss: 0.6314  train MAE:3.9727\n",
      "epoch: 0  step: 199  loss: 0.4848  train MAE:3.0505\n"
     ]
    },
    {
     "ename": "KeyboardInterrupt",
     "evalue": "",
     "output_type": "error",
     "traceback": [
      "\u001b[0;31m---------------------------------------------------------------------------\u001b[0m",
      "\u001b[0;31mKeyboardInterrupt\u001b[0m                         Traceback (most recent call last)",
      "Cell \u001b[0;32mIn[58], line 3\u001b[0m\n\u001b[1;32m      1\u001b[0m \u001b[39mprint\u001b[39m(\u001b[39m'\u001b[39m\u001b[39mStarting training on a single gpu...\u001b[39m\u001b[39m'\u001b[39m)\n\u001b[1;32m      2\u001b[0m mode \u001b[39m=\u001b[39m \u001b[39m'\u001b[39m\u001b[39mgpu\u001b[39m\u001b[39m'\u001b[39m\n\u001b[0;32m----> 3\u001b[0m train(\u001b[39m0\u001b[39;49m, model)\n",
      "Cell \u001b[0;32mIn[57], line 66\u001b[0m, in \u001b[0;36mtrain\u001b[0;34m(gpu, model, start_epoch)\u001b[0m\n\u001b[1;32m     63\u001b[0m \u001b[39mfor\u001b[39;00m step, graph \u001b[39min\u001b[39;00m \u001b[39menumerate\u001b[39m(train_loader):\n\u001b[1;32m     64\u001b[0m     \u001b[39m# Forward & Backward.\u001b[39;00m\n\u001b[1;32m     65\u001b[0m     graph \u001b[39m=\u001b[39m graph\u001b[39m.\u001b[39mto(device)\n\u001b[0;32m---> 66\u001b[0m     out \u001b[39m=\u001b[39m model(graph)\u001b[39m.\u001b[39msqueeze()\n\u001b[1;32m     67\u001b[0m     loss \u001b[39m=\u001b[39m criterion(out, (graph\u001b[39m.\u001b[39my \u001b[39m-\u001b[39m target_mean)\u001b[39m/\u001b[39mtarget_mad)\n\u001b[1;32m     68\u001b[0m     optimizer\u001b[39m.\u001b[39mzero_grad()\n",
      "File \u001b[0;32m~/anaconda3/envs/envname/lib/python3.8/site-packages/torch/nn/modules/module.py:1102\u001b[0m, in \u001b[0;36mModule._call_impl\u001b[0;34m(self, *input, **kwargs)\u001b[0m\n\u001b[1;32m   1098\u001b[0m \u001b[39m# If we don't have any hooks, we want to skip the rest of the logic in\u001b[39;00m\n\u001b[1;32m   1099\u001b[0m \u001b[39m# this function, and just call forward.\u001b[39;00m\n\u001b[1;32m   1100\u001b[0m \u001b[39mif\u001b[39;00m \u001b[39mnot\u001b[39;00m (\u001b[39mself\u001b[39m\u001b[39m.\u001b[39m_backward_hooks \u001b[39mor\u001b[39;00m \u001b[39mself\u001b[39m\u001b[39m.\u001b[39m_forward_hooks \u001b[39mor\u001b[39;00m \u001b[39mself\u001b[39m\u001b[39m.\u001b[39m_forward_pre_hooks \u001b[39mor\u001b[39;00m _global_backward_hooks\n\u001b[1;32m   1101\u001b[0m         \u001b[39mor\u001b[39;00m _global_forward_hooks \u001b[39mor\u001b[39;00m _global_forward_pre_hooks):\n\u001b[0;32m-> 1102\u001b[0m     \u001b[39mreturn\u001b[39;00m forward_call(\u001b[39m*\u001b[39;49m\u001b[39minput\u001b[39;49m, \u001b[39m*\u001b[39;49m\u001b[39m*\u001b[39;49mkwargs)\n\u001b[1;32m   1103\u001b[0m \u001b[39m# Do not call functions when jit is used\u001b[39;00m\n\u001b[1;32m   1104\u001b[0m full_backward_hooks, non_full_backward_hooks \u001b[39m=\u001b[39m [], []\n",
      "Cell \u001b[0;32mIn[44], line 115\u001b[0m, in \u001b[0;36mSEGNN.forward\u001b[0;34m(self, graph)\u001b[0m\n\u001b[1;32m    112\u001b[0m \u001b[39m# Pass messages\u001b[39;00m\n\u001b[1;32m    113\u001b[0m \u001b[39m# This iteration applies each layer's forward method sequentially to the input tensor x. \u001b[39;00m\n\u001b[1;32m    114\u001b[0m \u001b[39mfor\u001b[39;00m layer \u001b[39min\u001b[39;00m \u001b[39mself\u001b[39m\u001b[39m.\u001b[39mlayers:\n\u001b[0;32m--> 115\u001b[0m     x \u001b[39m=\u001b[39m layer(\n\u001b[1;32m    116\u001b[0m         x, edge_index, edge_attr, node_attr, batch, additional_message_features\n\u001b[1;32m    117\u001b[0m     )\n\u001b[1;32m    119\u001b[0m \u001b[39m# Pre pool\u001b[39;00m\n\u001b[1;32m    120\u001b[0m x \u001b[39m=\u001b[39m \u001b[39mself\u001b[39m\u001b[39m.\u001b[39mpre_pool1(x, node_attr)\n",
      "File \u001b[0;32m~/anaconda3/envs/envname/lib/python3.8/site-packages/torch/nn/modules/module.py:1102\u001b[0m, in \u001b[0;36mModule._call_impl\u001b[0;34m(self, *input, **kwargs)\u001b[0m\n\u001b[1;32m   1098\u001b[0m \u001b[39m# If we don't have any hooks, we want to skip the rest of the logic in\u001b[39;00m\n\u001b[1;32m   1099\u001b[0m \u001b[39m# this function, and just call forward.\u001b[39;00m\n\u001b[1;32m   1100\u001b[0m \u001b[39mif\u001b[39;00m \u001b[39mnot\u001b[39;00m (\u001b[39mself\u001b[39m\u001b[39m.\u001b[39m_backward_hooks \u001b[39mor\u001b[39;00m \u001b[39mself\u001b[39m\u001b[39m.\u001b[39m_forward_hooks \u001b[39mor\u001b[39;00m \u001b[39mself\u001b[39m\u001b[39m.\u001b[39m_forward_pre_hooks \u001b[39mor\u001b[39;00m _global_backward_hooks\n\u001b[1;32m   1101\u001b[0m         \u001b[39mor\u001b[39;00m _global_forward_hooks \u001b[39mor\u001b[39;00m _global_forward_pre_hooks):\n\u001b[0;32m-> 1102\u001b[0m     \u001b[39mreturn\u001b[39;00m forward_call(\u001b[39m*\u001b[39;49m\u001b[39minput\u001b[39;49m, \u001b[39m*\u001b[39;49m\u001b[39m*\u001b[39;49mkwargs)\n\u001b[1;32m   1103\u001b[0m \u001b[39m# Do not call functions when jit is used\u001b[39;00m\n\u001b[1;32m   1104\u001b[0m full_backward_hooks, non_full_backward_hooks \u001b[39m=\u001b[39m [], []\n",
      "Cell \u001b[0;32mIn[43], line 59\u001b[0m, in \u001b[0;36mSEGNNLayer.forward\u001b[0;34m(self, x, edge_index, edge_attr, node_attr, batch, additional_message_features)\u001b[0m\n\u001b[1;32m     49\u001b[0m \u001b[39mdef\u001b[39;00m \u001b[39mforward\u001b[39m(\n\u001b[1;32m     50\u001b[0m     \u001b[39mself\u001b[39m,\n\u001b[1;32m     51\u001b[0m     x,\n\u001b[0;32m   (...)\u001b[0m\n\u001b[1;32m     56\u001b[0m     additional_message_features\u001b[39m=\u001b[39m\u001b[39mNone\u001b[39;00m,\n\u001b[1;32m     57\u001b[0m ):\n\u001b[1;32m     58\u001b[0m \u001b[39m    \u001b[39m\u001b[39m\"\"\"Propagate messages along edges\"\"\"\u001b[39;00m\n\u001b[0;32m---> 59\u001b[0m     x \u001b[39m=\u001b[39m \u001b[39mself\u001b[39;49m\u001b[39m.\u001b[39;49mpropagate(\n\u001b[1;32m     60\u001b[0m         edge_index,\n\u001b[1;32m     61\u001b[0m         x\u001b[39m=\u001b[39;49mx,\n\u001b[1;32m     62\u001b[0m         node_attr\u001b[39m=\u001b[39;49mnode_attr,\n\u001b[1;32m     63\u001b[0m         edge_attr\u001b[39m=\u001b[39;49medge_attr,\n\u001b[1;32m     64\u001b[0m         additional_message_features\u001b[39m=\u001b[39;49madditional_message_features,\n\u001b[1;32m     65\u001b[0m     )\n\u001b[1;32m     66\u001b[0m     \u001b[39m# Normalise features\u001b[39;00m\n\u001b[1;32m     67\u001b[0m     \u001b[39mif\u001b[39;00m \u001b[39mself\u001b[39m\u001b[39m.\u001b[39mfeature_norm:\n",
      "File \u001b[0;32m~/anaconda3/envs/envname/lib/python3.8/site-packages/torch_geometric/nn/conv/message_passing.py:349\u001b[0m, in \u001b[0;36mMessagePassing.propagate\u001b[0;34m(self, edge_index, size, **kwargs)\u001b[0m\n\u001b[1;32m    346\u001b[0m         out \u001b[39m=\u001b[39m res\n\u001b[1;32m    348\u001b[0m update_kwargs \u001b[39m=\u001b[39m \u001b[39mself\u001b[39m\u001b[39m.\u001b[39minspector\u001b[39m.\u001b[39mdistribute(\u001b[39m'\u001b[39m\u001b[39mupdate\u001b[39m\u001b[39m'\u001b[39m, coll_dict)\n\u001b[0;32m--> 349\u001b[0m out \u001b[39m=\u001b[39m \u001b[39mself\u001b[39;49m\u001b[39m.\u001b[39;49mupdate(out, \u001b[39m*\u001b[39;49m\u001b[39m*\u001b[39;49mupdate_kwargs)\n\u001b[1;32m    351\u001b[0m \u001b[39mif\u001b[39;00m decomposed_layers \u001b[39m>\u001b[39m \u001b[39m1\u001b[39m:\n\u001b[1;32m    352\u001b[0m     decomp_out\u001b[39m.\u001b[39mappend(out)\n",
      "Cell \u001b[0;32mIn[43], line 93\u001b[0m, in \u001b[0;36mSEGNNLayer.update\u001b[0;34m(self, message, x, node_attr)\u001b[0m\n\u001b[1;32m     91\u001b[0m \u001b[39minput\u001b[39m \u001b[39m=\u001b[39m torch\u001b[39m.\u001b[39mcat((x, message), dim\u001b[39m=\u001b[39m\u001b[39m-\u001b[39m\u001b[39m1\u001b[39m)\n\u001b[1;32m     92\u001b[0m update \u001b[39m=\u001b[39m \u001b[39mself\u001b[39m\u001b[39m.\u001b[39mupdate_layer_1(\u001b[39minput\u001b[39m, node_attr)\n\u001b[0;32m---> 93\u001b[0m update \u001b[39m=\u001b[39m \u001b[39mself\u001b[39;49m\u001b[39m.\u001b[39;49mupdate_layer_2(update, node_attr)\n\u001b[1;32m     94\u001b[0m x \u001b[39m+\u001b[39m\u001b[39m=\u001b[39m update  \u001b[39m# Residual connection\u001b[39;00m\n\u001b[1;32m     95\u001b[0m \u001b[39mreturn\u001b[39;00m x\n",
      "File \u001b[0;32m~/anaconda3/envs/envname/lib/python3.8/site-packages/torch/nn/modules/module.py:1102\u001b[0m, in \u001b[0;36mModule._call_impl\u001b[0;34m(self, *input, **kwargs)\u001b[0m\n\u001b[1;32m   1098\u001b[0m \u001b[39m# If we don't have any hooks, we want to skip the rest of the logic in\u001b[39;00m\n\u001b[1;32m   1099\u001b[0m \u001b[39m# this function, and just call forward.\u001b[39;00m\n\u001b[1;32m   1100\u001b[0m \u001b[39mif\u001b[39;00m \u001b[39mnot\u001b[39;00m (\u001b[39mself\u001b[39m\u001b[39m.\u001b[39m_backward_hooks \u001b[39mor\u001b[39;00m \u001b[39mself\u001b[39m\u001b[39m.\u001b[39m_forward_hooks \u001b[39mor\u001b[39;00m \u001b[39mself\u001b[39m\u001b[39m.\u001b[39m_forward_pre_hooks \u001b[39mor\u001b[39;00m _global_backward_hooks\n\u001b[1;32m   1101\u001b[0m         \u001b[39mor\u001b[39;00m _global_forward_hooks \u001b[39mor\u001b[39;00m _global_forward_pre_hooks):\n\u001b[0;32m-> 1102\u001b[0m     \u001b[39mreturn\u001b[39;00m forward_call(\u001b[39m*\u001b[39;49m\u001b[39minput\u001b[39;49m, \u001b[39m*\u001b[39;49m\u001b[39m*\u001b[39;49mkwargs)\n\u001b[1;32m   1103\u001b[0m \u001b[39m# Do not call functions when jit is used\u001b[39;00m\n\u001b[1;32m   1104\u001b[0m full_backward_hooks, non_full_backward_hooks \u001b[39m=\u001b[39m [], []\n",
      "Cell \u001b[0;32mIn[37], line 135\u001b[0m, in \u001b[0;36mO3TensorProduct.forward\u001b[0;34m(self, data_in1, data_in2)\u001b[0m\n\u001b[1;32m    133\u001b[0m \u001b[39mdef\u001b[39;00m \u001b[39mforward\u001b[39m(\u001b[39mself\u001b[39m, data_in1, data_in2\u001b[39m=\u001b[39m\u001b[39mNone\u001b[39;00m) \u001b[39m-\u001b[39m\u001b[39m>\u001b[39m torch\u001b[39m.\u001b[39mTensor:\n\u001b[1;32m    134\u001b[0m     \u001b[39m# Apply the tensor product, the rescaling and the bias\u001b[39;00m\n\u001b[0;32m--> 135\u001b[0m     data_out \u001b[39m=\u001b[39m \u001b[39mself\u001b[39;49m\u001b[39m.\u001b[39;49mforward_tp_rescale_bias(data_in1, data_in2)\n\u001b[1;32m    136\u001b[0m     \u001b[39mreturn\u001b[39;00m data_out\n",
      "Cell \u001b[0;32mIn[37], line 122\u001b[0m, in \u001b[0;36mO3TensorProduct.forward_tp_rescale_bias\u001b[0;34m(self, data_in1, data_in2)\u001b[0m\n\u001b[1;32m    119\u001b[0m \u001b[39mif\u001b[39;00m data_in2 \u001b[39m==\u001b[39m \u001b[39mNone\u001b[39;00m:\n\u001b[1;32m    120\u001b[0m     data_in2 \u001b[39m=\u001b[39m torch\u001b[39m.\u001b[39mones_like(data_in1[:, \u001b[39m0\u001b[39m:\u001b[39m1\u001b[39m])\n\u001b[0;32m--> 122\u001b[0m data_out \u001b[39m=\u001b[39m \u001b[39mself\u001b[39;49m\u001b[39m.\u001b[39;49mtp(data_in1, data_in2)\n\u001b[1;32m    124\u001b[0m \u001b[39m# Apply corrections\u001b[39;00m\n\u001b[1;32m    125\u001b[0m \u001b[39mif\u001b[39;00m \u001b[39mself\u001b[39m\u001b[39m.\u001b[39mtp_rescale:\n",
      "File \u001b[0;32m~/anaconda3/envs/envname/lib/python3.8/site-packages/torch/nn/modules/module.py:1102\u001b[0m, in \u001b[0;36mModule._call_impl\u001b[0;34m(self, *input, **kwargs)\u001b[0m\n\u001b[1;32m   1098\u001b[0m \u001b[39m# If we don't have any hooks, we want to skip the rest of the logic in\u001b[39;00m\n\u001b[1;32m   1099\u001b[0m \u001b[39m# this function, and just call forward.\u001b[39;00m\n\u001b[1;32m   1100\u001b[0m \u001b[39mif\u001b[39;00m \u001b[39mnot\u001b[39;00m (\u001b[39mself\u001b[39m\u001b[39m.\u001b[39m_backward_hooks \u001b[39mor\u001b[39;00m \u001b[39mself\u001b[39m\u001b[39m.\u001b[39m_forward_hooks \u001b[39mor\u001b[39;00m \u001b[39mself\u001b[39m\u001b[39m.\u001b[39m_forward_pre_hooks \u001b[39mor\u001b[39;00m _global_backward_hooks\n\u001b[1;32m   1101\u001b[0m         \u001b[39mor\u001b[39;00m _global_forward_hooks \u001b[39mor\u001b[39;00m _global_forward_pre_hooks):\n\u001b[0;32m-> 1102\u001b[0m     \u001b[39mreturn\u001b[39;00m forward_call(\u001b[39m*\u001b[39;49m\u001b[39minput\u001b[39;49m, \u001b[39m*\u001b[39;49m\u001b[39m*\u001b[39;49mkwargs)\n\u001b[1;32m   1103\u001b[0m \u001b[39m# Do not call functions when jit is used\u001b[39;00m\n\u001b[1;32m   1104\u001b[0m full_backward_hooks, non_full_backward_hooks \u001b[39m=\u001b[39m [], []\n",
      "File \u001b[0;32m~/anaconda3/envs/envname/lib/python3.8/site-packages/e3nn/o3/_tensor_product/_tensor_product.py:418\u001b[0m, in \u001b[0;36mTensorProduct.forward\u001b[0;34m(self, x, y, weight)\u001b[0m\n\u001b[1;32m    416\u001b[0m \u001b[39m# - PROFILER - with torch.autograd.profiler.record_function(self._profiling_str):\u001b[39;00m\n\u001b[1;32m    417\u001b[0m real_weight \u001b[39m=\u001b[39m \u001b[39mself\u001b[39m\u001b[39m.\u001b[39m_get_weights(weight)\n\u001b[0;32m--> 418\u001b[0m \u001b[39mreturn\u001b[39;00m \u001b[39mself\u001b[39;49m\u001b[39m.\u001b[39;49m_compiled_main_out(x, y, real_weight)\n",
      "File \u001b[0;32m~/anaconda3/envs/envname/lib/python3.8/site-packages/torch/nn/modules/module.py:1102\u001b[0m, in \u001b[0;36mModule._call_impl\u001b[0;34m(self, *input, **kwargs)\u001b[0m\n\u001b[1;32m   1098\u001b[0m \u001b[39m# If we don't have any hooks, we want to skip the rest of the logic in\u001b[39;00m\n\u001b[1;32m   1099\u001b[0m \u001b[39m# this function, and just call forward.\u001b[39;00m\n\u001b[1;32m   1100\u001b[0m \u001b[39mif\u001b[39;00m \u001b[39mnot\u001b[39;00m (\u001b[39mself\u001b[39m\u001b[39m.\u001b[39m_backward_hooks \u001b[39mor\u001b[39;00m \u001b[39mself\u001b[39m\u001b[39m.\u001b[39m_forward_hooks \u001b[39mor\u001b[39;00m \u001b[39mself\u001b[39m\u001b[39m.\u001b[39m_forward_pre_hooks \u001b[39mor\u001b[39;00m _global_backward_hooks\n\u001b[1;32m   1101\u001b[0m         \u001b[39mor\u001b[39;00m _global_forward_hooks \u001b[39mor\u001b[39;00m _global_forward_pre_hooks):\n\u001b[0;32m-> 1102\u001b[0m     \u001b[39mreturn\u001b[39;00m forward_call(\u001b[39m*\u001b[39;49m\u001b[39minput\u001b[39;49m, \u001b[39m*\u001b[39;49m\u001b[39m*\u001b[39;49mkwargs)\n\u001b[1;32m   1103\u001b[0m \u001b[39m# Do not call functions when jit is used\u001b[39;00m\n\u001b[1;32m   1104\u001b[0m full_backward_hooks, non_full_backward_hooks \u001b[39m=\u001b[39m [], []\n",
      "\u001b[0;31mKeyboardInterrupt\u001b[0m: "
     ]
    }
   ],
   "source": [
    "print('Starting training on a single gpu...')\n",
    "mode = 'gpu'\n",
    "train(0, model)"
   ]
  },
  {
   "cell_type": "code",
   "execution_count": null,
   "metadata": {},
   "outputs": [],
   "source": []
  },
  {
   "cell_type": "code",
   "execution_count": null,
   "metadata": {},
   "outputs": [],
   "source": []
  },
  {
   "cell_type": "code",
   "execution_count": null,
   "metadata": {},
   "outputs": [],
   "source": []
  }
 ],
 "metadata": {
  "kernelspec": {
   "display_name": "Python 3",
   "language": "python",
   "name": "python3"
  },
  "language_info": {
   "codemirror_mode": {
    "name": "ipython",
    "version": 3
   },
   "file_extension": ".py",
   "mimetype": "text/x-python",
   "name": "python",
   "nbconvert_exporter": "python",
   "pygments_lexer": "ipython3",
   "version": "3.8.12"
  },
  "orig_nbformat": 4,
  "vscode": {
   "interpreter": {
    "hash": "916dbcbb3f70747c44a77c7bcd40155683ae19c65e1c03b4aa3499c5328201f1"
   }
  }
 },
 "nbformat": 4,
 "nbformat_minor": 2
}
